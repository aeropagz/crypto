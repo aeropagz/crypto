{
 "metadata": {
  "language_info": {
   "codemirror_mode": {
    "name": "ipython",
    "version": 3
   },
   "file_extension": ".py",
   "mimetype": "text/x-python",
   "name": "python",
   "nbconvert_exporter": "python",
   "pygments_lexer": "ipython3",
   "version": "3.8.5"
  },
  "orig_nbformat": 2,
  "kernelspec": {
   "name": "python385jvsc74a57bd0916dbcbb3f70747c44a77c7bcd40155683ae19c65e1c03b4aa3499c5328201f1",
   "display_name": "Python 3.8.5 64-bit"
  },
  "metadata": {
   "interpreter": {
    "hash": "916dbcbb3f70747c44a77c7bcd40155683ae19c65e1c03b4aa3499c5328201f1"
   }
  }
 },
 "nbformat": 4,
 "nbformat_minor": 2,
 "cells": [
  {
   "cell_type": "code",
   "execution_count": 2,
   "metadata": {},
   "outputs": [],
   "source": [
    "from prime import generate_prime_number\n",
    "from rsa import *"
   ]
  },
  {
   "cell_type": "code",
   "execution_count": 2,
   "metadata": {},
   "outputs": [],
   "source": [
    "p, q =  [generate_prime_number() for _ in range(2)]"
   ]
  },
  {
   "cell_type": "code",
   "execution_count": 3,
   "metadata": {},
   "outputs": [],
   "source": [
    "N = generate_rsa_modul(p, q)\n",
    "m = euler(p, q)"
   ]
  },
  {
   "cell_type": "code",
   "execution_count": 4,
   "metadata": {},
   "outputs": [],
   "source": [
    "e = find_e(m)\n",
    "d = pow(e, -1, m)"
   ]
  },
  {
   "cell_type": "code",
   "execution_count": 5,
   "metadata": {},
   "outputs": [
    {
     "output_type": "stream",
     "name": "stdout",
     "text": [
      "pub:\ne: 0x9f0be315\nn: 0xf606e5082174f74b040a1b0c26a901dbe2e260073d2270259219bbd91cb0c948651f8a6d483b618b420acd6fe29761690035efdc5417d9b39aeff3383c4800a40c3ef194e9cca0fc8104d758b19c9c8770e2d657e168223bfccb1641790794967118662372113286ce2cc22f80d27c20fb0d688878eb835c0cf4dc527bd1e428e901e59850f37efca7528bf8f87ad2917cf93ca058ecc3b7b9379d8337174dcb6fa2921a674bdc14d0e542f101273112f22637060f1a3d568a3f10738704174a1c76295dd2aa74d8accbc406daf5e97409384a75723be170b1ec587e597aff6f3333c69c2e8292f1716ef1fc65a561f5f3754a17e6f10a6fe26f6f67fa7825f7\n"
     ]
    }
   ],
   "source": [
    "print(f\"pub:\\ne: {hex(e)}\\nn: {hex(N)}\")"
   ]
  },
  {
   "cell_type": "code",
   "execution_count": 6,
   "metadata": {},
   "outputs": [
    {
     "output_type": "execute_result",
     "data": {
      "text/plain": [
       "2"
      ]
     },
     "metadata": {},
     "execution_count": 6
    }
   ],
   "source": [
    "cipher = encrypt_string(\"RSA TEST\", e, N)\n",
    "print(cipher)"
   ]
  },
  {
   "cell_type": "code",
   "execution_count": 3,
   "metadata": {},
   "outputs": [
    {
     "output_type": "execute_result",
     "data": {
      "text/plain": [
       "7"
      ]
     },
     "metadata": {},
     "execution_count": 3
    }
   ],
   "source": [
    "decrypt_string(cipher, d, N)"
   ]
  },
  {
   "cell_type": "code",
   "execution_count": null,
   "metadata": {},
   "outputs": [],
   "source": []
  }
 ]
}